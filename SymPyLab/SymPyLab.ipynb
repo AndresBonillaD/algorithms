{
  "nbformat": 4,
  "nbformat_minor": 0,
  "metadata": {
    "colab": {
      "name": "SymPyLab.ipynb",
      "provenance": []
    },
    "kernelspec": {
      "name": "python3",
      "display_name": "Python 3"
    }
  },
  "cells": [
    {
      "cell_type": "markdown",
      "metadata": {
        "id": "vtY1shFnMal_",
        "colab_type": "text"
      },
      "source": [
        "\n",
        "\n",
        "SymPy’s documentation\n",
        "- https://docs.sympy.org/latest/index.html\n",
        "- https://docs.sympy.org/latest/modules/polys/basics.html#polynomials "
      ]
    },
    {
      "cell_type": "markdown",
      "metadata": {
        "id": "GSRpl42A6UXg",
        "colab_type": "text"
      },
      "source": [
        "<img src=\"https://upload.wikimedia.org/wikipedia/commons/8/84/Pi_30K.gif\" alt=\"drawing\" width=\"200\"/>"
      ]
    },
    {
      "cell_type": "code",
      "metadata": {
        "id": "Fw1yPZWLMb5P",
        "colab_type": "code",
        "colab": {
          "base_uri": "https://localhost:8080/",
          "height": 153
        },
        "outputId": "e4cc64cd-61df-4dca-f088-80dc13a64086"
      },
      "source": [
        "from sympy import Symbol\n",
        "from sympy import div\n",
        "\n",
        "x = Symbol('x')\n",
        "\n",
        "p = x**5 - 15*x**4  + 85*x**3 - 225*x**2 + 274*x - 120\n",
        "\n",
        "p, r = div(p,  x-1)\n",
        "\n",
        "print(p)\n",
        "print(r)\n",
        "\n",
        "p, r = div(p,  x-2)\n",
        "\n",
        "print(p)\n",
        "print(r)\n",
        "\n",
        "p, r = div(p,  x-3)\n",
        "\n",
        "print(p)\n",
        "print(r)\n",
        "\n",
        "p, r = div(p,  x-4)\n",
        "\n",
        "print(p)\n",
        "print(r)\n",
        "\n"
      ],
      "execution_count": 1,
      "outputs": [
        {
          "output_type": "stream",
          "text": [
            "x**4 - 14*x**3 + 71*x**2 - 154*x + 120\n",
            "0\n",
            "x**3 - 12*x**2 + 47*x - 60\n",
            "0\n",
            "x**2 - 9*x + 20\n",
            "0\n",
            "x - 5\n",
            "0\n"
          ],
          "name": "stdout"
        }
      ]
    },
    {
      "cell_type": "markdown",
      "metadata": {
        "id": "57Jooilb7vmN",
        "colab_type": "text"
      },
      "source": [
        "∫ x^2 dx"
      ]
    },
    {
      "cell_type": "markdown",
      "metadata": {
        "id": "-o2UtTKL88z9",
        "colab_type": "text"
      },
      "source": [
        "Monte Carlo sampling methods [risk-engineering.org](https://risk-engineering.org/notebook/monte-carlo-LHS.html)"
      ]
    },
    {
      "cell_type": "code",
      "metadata": {
        "id": "TEqTOZZ_LlIx",
        "colab_type": "code",
        "colab": {
          "base_uri": "https://localhost:8080/",
          "height": 34
        },
        "outputId": "9cb8ec57-fd10-4f8e-a25f-b672b5b5f8b9"
      },
      "source": [
        "import sympy\n",
        "x = sympy.Symbol(\"x\")\n",
        "i = sympy.integrate(x**2)\n",
        "print(i)"
      ],
      "execution_count": 2,
      "outputs": [
        {
          "output_type": "stream",
          "text": [
            "x**3/3\n"
          ],
          "name": "stdout"
        }
      ]
    },
    {
      "cell_type": "code",
      "metadata": {
        "id": "zsrMg_UM8l4c",
        "colab_type": "code",
        "colab": {}
      },
      "source": [
        "i.subs?"
      ],
      "execution_count": 7,
      "outputs": []
    },
    {
      "cell_type": "code",
      "metadata": {
        "id": "yYchQ-QUQRJH",
        "colab_type": "code",
        "colab": {
          "base_uri": "https://localhost:8080/",
          "height": 34
        },
        "outputId": "d9f31712-fd97-48d0-ad7a-0cc3066af418"
      },
      "source": [
        "result = {} \n",
        "result[\"analytical\"] = float(i.subs(x, 5) - i.subs(x, 1))\n",
        "print(\"Analytical result: {}\".format(result[\"analytical\"]))"
      ],
      "execution_count": 6,
      "outputs": [
        {
          "output_type": "stream",
          "text": [
            "Analytical result: 41.333333333333336\n"
          ],
          "name": "stdout"
        }
      ]
    },
    {
      "cell_type": "code",
      "metadata": {
        "id": "63avN0gkLJ98",
        "colab_type": "code",
        "colab": {}
      },
      "source": [
        "i.subs?\n",
        "result[\"analytical\"] = float(i.subs(x, 5) - i.subs(x, 1))\n",
        "print(\"Analytical result: {}\".format(result[\"analytical\"]))"
      ],
      "execution_count": null,
      "outputs": []
    }
  ]
}